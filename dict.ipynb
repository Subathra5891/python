{
 "cells": [
  {
   "cell_type": "code",
   "execution_count": 1,
   "id": "82b85622",
   "metadata": {},
   "outputs": [],
   "source": [
    "mydict=dict({1:\"abc\",2:\"def\",3:\"ijk\"})"
   ]
  },
  {
   "cell_type": "code",
   "execution_count": 2,
   "id": "25b810cb",
   "metadata": {},
   "outputs": [
    {
     "data": {
      "text/plain": [
       "dict"
      ]
     },
     "execution_count": 2,
     "metadata": {},
     "output_type": "execute_result"
    }
   ],
   "source": [
    "type(mydict)"
   ]
  },
  {
   "cell_type": "code",
   "execution_count": 3,
   "id": "be507e53",
   "metadata": {},
   "outputs": [
    {
     "data": {
      "text/plain": [
       "{1: 'abc', 2: 'def', 3: 'ijk'}"
      ]
     },
     "execution_count": 3,
     "metadata": {},
     "output_type": "execute_result"
    }
   ],
   "source": [
    "mydict"
   ]
  },
  {
   "cell_type": "code",
   "execution_count": 4,
   "id": "2b34febc",
   "metadata": {},
   "outputs": [
    {
     "data": {
      "text/plain": [
       "dict_keys([1, 2, 3])"
      ]
     },
     "execution_count": 4,
     "metadata": {},
     "output_type": "execute_result"
    }
   ],
   "source": [
    "mydict.keys()"
   ]
  },
  {
   "cell_type": "code",
   "execution_count": 5,
   "id": "b36d88d4",
   "metadata": {},
   "outputs": [
    {
     "data": {
      "text/plain": [
       "dict_values(['abc', 'def', 'ijk'])"
      ]
     },
     "execution_count": 5,
     "metadata": {},
     "output_type": "execute_result"
    }
   ],
   "source": [
    "mydict.values()"
   ]
  },
  {
   "cell_type": "code",
   "execution_count": 6,
   "id": "408dbbb7",
   "metadata": {},
   "outputs": [
    {
     "data": {
      "text/plain": [
       "dict_items([(1, 'abc'), (2, 'def'), (3, 'ijk')])"
      ]
     },
     "execution_count": 6,
     "metadata": {},
     "output_type": "execute_result"
    }
   ],
   "source": [
    "mydict.items()"
   ]
  },
  {
   "cell_type": "code",
   "execution_count": 7,
   "id": "a1c08588",
   "metadata": {},
   "outputs": [
    {
     "data": {
      "text/plain": [
       "'def'"
      ]
     },
     "execution_count": 7,
     "metadata": {},
     "output_type": "execute_result"
    }
   ],
   "source": [
    "mydict.get(2)"
   ]
  },
  {
   "cell_type": "code",
   "execution_count": 12,
   "id": "92d7fdf6",
   "metadata": {},
   "outputs": [],
   "source": [
    "mydict[2]='mama'  #changing vaulues using key"
   ]
  },
  {
   "cell_type": "code",
   "execution_count": 11,
   "id": "3079ace3",
   "metadata": {},
   "outputs": [
    {
     "data": {
      "text/plain": [
       "{1: 'abc', 2: 'mama', 3: 'ijk'}"
      ]
     },
     "execution_count": 11,
     "metadata": {},
     "output_type": "execute_result"
    }
   ],
   "source": [
    "mydict"
   ]
  },
  {
   "cell_type": "code",
   "execution_count": 13,
   "id": "9e95b209",
   "metadata": {},
   "outputs": [],
   "source": [
    "mydict[4]='new item' # adding new item using key"
   ]
  },
  {
   "cell_type": "code",
   "execution_count": 14,
   "id": "30b8ef04",
   "metadata": {},
   "outputs": [
    {
     "data": {
      "text/plain": [
       "{1: 'abc', 2: 'mama', 3: 'ijk', 4: 'new item'}"
      ]
     },
     "execution_count": 14,
     "metadata": {},
     "output_type": "execute_result"
    }
   ],
   "source": [
    "mydict"
   ]
  },
  {
   "cell_type": "code",
   "execution_count": 15,
   "id": "e89cc701",
   "metadata": {},
   "outputs": [
    {
     "data": {
      "text/plain": [
       "'mama'"
      ]
     },
     "execution_count": 15,
     "metadata": {},
     "output_type": "execute_result"
    }
   ],
   "source": [
    "mydict.pop(2) # deleting a item using key"
   ]
  },
  {
   "cell_type": "code",
   "execution_count": 16,
   "id": "987b7e93",
   "metadata": {},
   "outputs": [
    {
     "data": {
      "text/plain": [
       "{1: 'abc', 3: 'ijk', 4: 'new item'}"
      ]
     },
     "execution_count": 16,
     "metadata": {},
     "output_type": "execute_result"
    }
   ],
   "source": [
    "mydict"
   ]
  },
  {
   "cell_type": "code",
   "execution_count": 18,
   "id": "45025d90",
   "metadata": {},
   "outputs": [],
   "source": [
    "mydict[2]='hhh'"
   ]
  },
  {
   "cell_type": "code",
   "execution_count": 19,
   "id": "54bc25d6",
   "metadata": {},
   "outputs": [],
   "source": [
    "mydict[5]='kkk'"
   ]
  },
  {
   "cell_type": "code",
   "execution_count": 20,
   "id": "278a659e",
   "metadata": {},
   "outputs": [
    {
     "data": {
      "text/plain": [
       "{1: 'abc', 3: 'ijk', 4: 'new item', 2: 'hhh', 5: 'kkk'}"
      ]
     },
     "execution_count": 20,
     "metadata": {},
     "output_type": "execute_result"
    }
   ],
   "source": [
    "mydict"
   ]
  },
  {
   "cell_type": "code",
   "execution_count": 22,
   "id": "c4370b17",
   "metadata": {},
   "outputs": [
    {
     "data": {
      "text/plain": [
       "[1, 2, 3, 4, 5]"
      ]
     },
     "execution_count": 22,
     "metadata": {},
     "output_type": "execute_result"
    }
   ],
   "source": [
    "sorted(mydict)"
   ]
  },
  {
   "cell_type": "code",
   "execution_count": 23,
   "id": "24fdf362",
   "metadata": {},
   "outputs": [
    {
     "data": {
      "text/plain": [
       "{1: 'abc', 3: 'ijk', 4: 'new item', 2: 'hhh', 5: 'kkk'}"
      ]
     },
     "execution_count": 23,
     "metadata": {},
     "output_type": "execute_result"
    }
   ],
   "source": [
    "mydict"
   ]
  },
  {
   "cell_type": "code",
   "execution_count": 25,
   "id": "b569704b",
   "metadata": {},
   "outputs": [
    {
     "ename": "TypeError",
     "evalue": "unhashable type: 'slice'",
     "output_type": "error",
     "traceback": [
      "\u001b[0;31m---------------------------------------------------------------------------\u001b[0m",
      "\u001b[0;31mTypeError\u001b[0m                                 Traceback (most recent call last)",
      "Cell \u001b[0;32mIn[25], line 1\u001b[0m\n\u001b[0;32m----> 1\u001b[0m \u001b[43mmydict\u001b[49m\u001b[43m[\u001b[49m\u001b[43m:\u001b[49m\u001b[43m:\u001b[49m\u001b[38;5;241;43m-\u001b[39;49m\u001b[38;5;241;43m1\u001b[39;49m\u001b[43m]\u001b[49m\n",
      "\u001b[0;31mTypeError\u001b[0m: unhashable type: 'slice'"
     ]
    }
   ],
   "source": [
    "mydict[::-1] # slicing not allowed"
   ]
  },
  {
   "cell_type": "code",
   "execution_count": 27,
   "id": "f5c9838a",
   "metadata": {},
   "outputs": [
    {
     "data": {
      "text/plain": [
       "(5, 'kkk')"
      ]
     },
     "execution_count": 27,
     "metadata": {},
     "output_type": "execute_result"
    }
   ],
   "source": [
    "mydict.popitem() # randomly deklets an item"
   ]
  },
  {
   "cell_type": "code",
   "execution_count": null,
   "id": "fc5b5c02",
   "metadata": {},
   "outputs": [],
   "source": []
  }
 ],
 "metadata": {
  "kernelspec": {
   "display_name": "Python 3 (ipykernel)",
   "language": "python",
   "name": "python3"
  },
  "language_info": {
   "codemirror_mode": {
    "name": "ipython",
    "version": 3
   },
   "file_extension": ".py",
   "mimetype": "text/x-python",
   "name": "python",
   "nbconvert_exporter": "python",
   "pygments_lexer": "ipython3",
   "version": "3.10.9"
  }
 },
 "nbformat": 4,
 "nbformat_minor": 5
}
